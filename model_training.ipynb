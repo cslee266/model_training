{
 "cells": [
  {
   "cell_type": "code",
   "execution_count": 1,
   "metadata": {},
   "outputs": [],
   "source": [
    "import pandas as pd\n",
    "import numpy as np \n",
    "import warnings\n",
    "warnings.filterwarnings(\"ignore\")\n",
    "from matplotlib import pyplot as plt\n",
    "%matplotlib inline\n",
    "import seaborn as sns\n",
    "import joblib\n",
    "from xgboost import XGBClassifier"
   ]
  },
  {
   "cell_type": "code",
   "execution_count": 2,
   "metadata": {},
   "outputs": [],
   "source": [
    "def model_result(clf,y,X,cutoff=0.5):\n",
    "    \"\"\"Print Confusion Matrix, ROC_AUC, Lift and etc.\n",
    "    Parameters\n",
    "    ----------\n",
    "    clf : Classifier\n",
    "        Model\n",
    "    y : DataFrame/np Array\n",
    "    X : DataFrame/np Array\n",
    "    cutoff : double or 'best'. Default = 0.5\n",
    "        If 'best', find cutoff/threshold where true positive rate is high and the false positive rate is low. \n",
    "    Returns\n",
    "    -------\n",
    "    None\n",
    "    \"\"\"\n",
    "    from sklearn.metrics import confusion_matrix,roc_auc_score,roc_curve\n",
    "    \n",
    "    y_score = clf.predict_proba(X)[:,1]\n",
    "    \n",
    "    if str(cutoff) == 'best':\n",
    "        fpr, tpr, threshold = roc_curve(y, y_score)\n",
    "        i = np.arange(len(tpr)) \n",
    "        roc = pd.DataFrame({'tf' : pd.Series(tpr-(1-fpr), index=i), 'threshold' : pd.Series(threshold, index=i)})\n",
    "        roc_t = roc.loc[(roc.tf-0).abs().argsort()[:5]]\n",
    "        cutoff = list(roc_t['threshold'])[0] \n",
    "        print(\"top5 cutoff: \", list(roc_t['threshold']))\n",
    "        \n",
    "    # tn,fp,fn,tp= confusion_matrix(y,clf.predict(X)).flatten() #[1 if i>= cutoff else 0 for i in y_score]\n",
    "    tn,fp,fn,tp= confusion_matrix(y,np.where(y_score>=cutoff,1,0)).flatten()\n",
    "    print(clf.__class__)\n",
    "    print()\n",
    "    print(\"n={:^7}   |     cutoff={:.5f}\".format(tp+tn+fp+fn,cutoff))\n",
    "    print(\"            |     Prediction\")\n",
    "    print(\"____________|____0__________1___       \")\n",
    "    print(\"            |   TN     |    FP                TNR/Spec\\t\\t\"+ \"Ratio of FP/TP = {:.2f}\".format(fp/tp))\n",
    "    print(\"        0   | {:^7}  | {:^7}    {:^7}   {:^7}%\\t\\t\".format(tn, fp, tn+fp,round(tn/(tn+fp)*100, 2))+\"Prevalence = {:.2f}%\".format((fn+tp)/(fn+tp+fp+tn)*100))\n",
    "    print(\"Actual      |__________|_________      \\t\\t\\t\\t\"+\"Accuracy = {:.2f}%\".format((tn+tp)/(tn+tp+fn+fp)*100))\n",
    "    print(\"            |   FN     |    TP                TPR/Sen/Recall\\t\"+\"ROC AUC Score = {:.2f}\".format(roc_auc_score(y,y_score)))\n",
    "    print(\"        1   | {:^7}  | {:^7}   {:^7}   {:^7}%\\t\\t\".format(fn, tp, fn+tp,round(tp/(tp+fn)*100,2))+\"Lift = %.2f\" % (tp/(tp+fp)/(tp+fn)*(tp+tn+fp+fn)))\n",
    "    print(\"            |          |               \")\n",
    "    print(\"              {:^7}   {:^7}          \".format(tn+fn, fp+tp))\n",
    "    print()\n",
    "    print(\"                NPV       PPV,Preci\")\n",
    "    print(\"              {:^7}%   {:^7}%\".format(round(tn/(tn+fn)*100,2),round(tp/(tp+fp)*100,2)))\n"
   ]
  },
  {
   "cell_type": "code",
   "execution_count": 3,
   "metadata": {},
   "outputs": [],
   "source": [
    "pd.set_option('display.max_columns', None) #inv_churn"
   ]
  },
  {
   "cell_type": "code",
   "execution_count": 4,
   "metadata": {
    "scrolled": false
   },
   "outputs": [],
   "source": [
    "# df = pd.read_csv('data.csv')\n",
    "df = pd.read_csv('data2.csv')\n",
    "df.head()\n",
    "df_backup = df.copy()"
   ]
  },
  {
   "cell_type": "code",
   "execution_count": 5,
   "metadata": {},
   "outputs": [],
   "source": [
    "y1='dormant14'\n",
    "y2='dormant30'\n",
    "\n",
    "y=y2"
   ]
  },
  {
   "cell_type": "code",
   "execution_count": 6,
   "metadata": {},
   "outputs": [
    {
     "data": {
      "text/plain": [
       "0    8228815\n",
       "1      30954\n",
       "Name: dormant30, dtype: int64"
      ]
     },
     "execution_count": 6,
     "metadata": {},
     "output_type": "execute_result"
    }
   ],
   "source": [
    "df[y].value_counts()"
   ]
  },
  {
   "cell_type": "code",
   "execution_count": 7,
   "metadata": {},
   "outputs": [
    {
     "data": {
      "text/plain": [
       "(8259769, 37)"
      ]
     },
     "execution_count": 7,
     "metadata": {},
     "output_type": "execute_result"
    }
   ],
   "source": [
    "df.shape"
   ]
  },
  {
   "cell_type": "code",
   "execution_count": 8,
   "metadata": {},
   "outputs": [
    {
     "data": {
      "text/plain": [
       "(8259769, 37)"
      ]
     },
     "execution_count": 8,
     "metadata": {},
     "output_type": "execute_result"
    }
   ],
   "source": [
    "df1=df\n",
    "df1.shape"
   ]
  },
  {
   "cell_type": "code",
   "execution_count": 9,
   "metadata": {},
   "outputs": [],
   "source": [
    "## Undersample randomly\n",
    "Zeros = df1.loc[df1[y]==0].sample(frac = 0.1, random_state=323)\n",
    "Ones = df1.loc[df1[y]==1]\n",
    "df_final = pd.concat([Zeros, Ones])"
   ]
  },
  {
   "cell_type": "code",
   "execution_count": 10,
   "metadata": {},
   "outputs": [
    {
     "data": {
      "text/plain": [
       "(853836, 37)"
      ]
     },
     "execution_count": 10,
     "metadata": {},
     "output_type": "execute_result"
    }
   ],
   "source": [
    "df_final.shape"
   ]
  },
  {
   "cell_type": "code",
   "execution_count": 11,
   "metadata": {},
   "outputs": [],
   "source": [
    "final_col = [\n",
    "    'status_active',\n",
    "    'device_type_basic_phone',\n",
    "    'device_type_feature_phone',\n",
    "    'main_account_balance',\n",
    "    'months_in_status',\n",
    "    'data_vol_gb',\n",
    "    'num_out_call',\n",
    "    'amt_reload_60',\n",
    "    'num_reload_30',\n",
    "    'reload_validity', \n",
    "    'mi_monthly',\n",
    "    'monetz_target',\n",
    "    'reten_target',\n",
    "    'loyal_target',\n",
    "    'nonclm_target',\n",
    "    'dormant_target',\n",
    "    'dormant_taker',\n",
    "    'reload_rfm',\n",
    "    'a',\n",
    "    'b',\n",
    "    'dormant30'\n",
    "]"
   ]
  },
  {
   "cell_type": "code",
   "execution_count": 12,
   "metadata": {},
   "outputs": [
    {
     "name": "stdout",
     "output_type": "stream",
     "text": [
      "status_active\n",
      "device_type_basic_phone\n",
      "device_type_feature_phone\n",
      "main_account_balance\n",
      "months_in_status\n",
      "data_vol_gb\n",
      "num_out_call\n",
      "amt_reload_60\n",
      "num_reload_30\n",
      "reload_validity\n",
      "mi_monthly\n",
      "monetz_target\n",
      "reten_target\n",
      "loyal_target\n",
      "nonclm_target\n",
      "dormant_target\n",
      "dormant_taker\n",
      "reload_rfm\n",
      "a\n",
      "b\n",
      "dormant30\n"
     ]
    }
   ],
   "source": [
    "for i in final_col:\n",
    "    print(i)"
   ]
  },
  {
   "cell_type": "code",
   "execution_count": 13,
   "metadata": {},
   "outputs": [],
   "source": [
    "df_final = df_final.loc[:,final_col]"
   ]
  },
  {
   "cell_type": "code",
   "execution_count": 14,
   "metadata": {},
   "outputs": [
    {
     "data": {
      "text/plain": [
       "(853836, 21)"
      ]
     },
     "execution_count": 14,
     "metadata": {},
     "output_type": "execute_result"
    }
   ],
   "source": [
    "df_final.shape"
   ]
  },
  {
   "cell_type": "code",
   "execution_count": 15,
   "metadata": {},
   "outputs": [
    {
     "name": "stdout",
     "output_type": "stream",
     "text": [
      "status_active\n",
      "device_type_basic_phone\n",
      "device_type_feature_phone\n",
      "main_account_balance\n",
      "months_in_status\n",
      "data_vol_gb\n",
      "num_out_call\n",
      "amt_reload_60\n",
      "num_reload_30\n",
      "reload_validity\n",
      "mi_monthly\n",
      "monetz_target\n",
      "reten_target\n",
      "loyal_target\n",
      "nonclm_target\n",
      "dormant_target\n",
      "dormant_taker\n",
      "reload_rfm\n",
      "a\n",
      "b\n",
      "dormant30\n"
     ]
    }
   ],
   "source": [
    "for i in df_final.columns:\n",
    "    print(i)"
   ]
  },
  {
   "cell_type": "markdown",
   "metadata": {},
   "source": [
    "# Train Test Split"
   ]
  },
  {
   "cell_type": "code",
   "execution_count": 16,
   "metadata": {},
   "outputs": [],
   "source": [
    "from sklearn.model_selection import train_test_split\n",
    "train, test = train_test_split(df_final, test_size = .15 ,random_state = 322, stratify=df_final[y])\n",
    "train, validation = train_test_split(train, test_size = .1, random_state = 435,stratify=train[y])"
   ]
  },
  {
   "cell_type": "code",
   "execution_count": 17,
   "metadata": {},
   "outputs": [],
   "source": [
    "x_train = train.iloc[:,:-1]\n",
    "y_train = train[[y]]\n",
    "x_eval = validation.iloc[:,:-1]\n",
    "y_eval = validation[[y]]\n",
    "x_test = test.iloc[:,:-1]\n",
    "y_test = test[[y]]"
   ]
  },
  {
   "cell_type": "markdown",
   "metadata": {},
   "source": [
    "# Model Building"
   ]
  },
  {
   "cell_type": "code",
   "execution_count": 18,
   "metadata": {},
   "outputs": [
    {
     "data": {
      "text/plain": [
       "0    629504\n",
       "1     23680\n",
       "Name: dormant30, dtype: int64"
      ]
     },
     "execution_count": 18,
     "metadata": {},
     "output_type": "execute_result"
    }
   ],
   "source": [
    "y_train[y].value_counts()"
   ]
  },
  {
   "cell_type": "code",
   "execution_count": 19,
   "metadata": {},
   "outputs": [
    {
     "data": {
      "text/plain": [
       "26.583783783783783"
      ]
     },
     "execution_count": 19,
     "metadata": {},
     "output_type": "execute_result"
    }
   ],
   "source": [
    "629504/23680 #y2"
   ]
  },
  {
   "cell_type": "code",
   "execution_count": 20,
   "metadata": {},
   "outputs": [],
   "source": [
    "sample_weight = [26 if i==1 else 1 for i in y_train[y]]"
   ]
  },
  {
   "cell_type": "code",
   "execution_count": 21,
   "metadata": {},
   "outputs": [
    {
     "data": {
      "text/plain": [
       "(653184, 20)"
      ]
     },
     "execution_count": 21,
     "metadata": {},
     "output_type": "execute_result"
    }
   ],
   "source": [
    "x_train.shape"
   ]
  },
  {
   "cell_type": "code",
   "execution_count": 22,
   "metadata": {},
   "outputs": [
    {
     "name": "stdout",
     "output_type": "stream",
     "text": [
      "[0]\tvalidation_0-auc:0.87144\n",
      "Will train until validation_0-auc hasn't improved in 10 rounds.\n",
      "[1]\tvalidation_0-auc:0.87709\n",
      "[2]\tvalidation_0-auc:0.89544\n",
      "[3]\tvalidation_0-auc:0.89528\n",
      "[4]\tvalidation_0-auc:0.89532\n",
      "[5]\tvalidation_0-auc:0.89556\n",
      "[6]\tvalidation_0-auc:0.89630\n",
      "[7]\tvalidation_0-auc:0.89632\n",
      "[8]\tvalidation_0-auc:0.89775\n",
      "[9]\tvalidation_0-auc:0.89791\n",
      "[10]\tvalidation_0-auc:0.89838\n",
      "[11]\tvalidation_0-auc:0.89884\n",
      "[12]\tvalidation_0-auc:0.89888\n",
      "[13]\tvalidation_0-auc:0.89951\n",
      "[14]\tvalidation_0-auc:0.89940\n",
      "[15]\tvalidation_0-auc:0.89970\n",
      "[16]\tvalidation_0-auc:0.90004\n",
      "[17]\tvalidation_0-auc:0.90025\n",
      "[18]\tvalidation_0-auc:0.90046\n",
      "[19]\tvalidation_0-auc:0.90062\n",
      "[20]\tvalidation_0-auc:0.90248\n",
      "[21]\tvalidation_0-auc:0.90291\n",
      "[22]\tvalidation_0-auc:0.90316\n",
      "[23]\tvalidation_0-auc:0.90331\n",
      "[24]\tvalidation_0-auc:0.90352\n",
      "[25]\tvalidation_0-auc:0.90406\n",
      "[26]\tvalidation_0-auc:0.90457\n",
      "[27]\tvalidation_0-auc:0.90495\n",
      "[28]\tvalidation_0-auc:0.90522\n",
      "[29]\tvalidation_0-auc:0.90546\n",
      "[30]\tvalidation_0-auc:0.90594\n",
      "[31]\tvalidation_0-auc:0.90640\n",
      "[32]\tvalidation_0-auc:0.90702\n",
      "[33]\tvalidation_0-auc:0.90723\n",
      "[34]\tvalidation_0-auc:0.90786\n",
      "[35]\tvalidation_0-auc:0.90832\n",
      "[36]\tvalidation_0-auc:0.90905\n",
      "[37]\tvalidation_0-auc:0.90947\n",
      "[38]\tvalidation_0-auc:0.90983\n",
      "[39]\tvalidation_0-auc:0.91045\n",
      "[40]\tvalidation_0-auc:0.91077\n",
      "[41]\tvalidation_0-auc:0.91102\n",
      "[42]\tvalidation_0-auc:0.91124\n",
      "[43]\tvalidation_0-auc:0.91146\n",
      "[44]\tvalidation_0-auc:0.91196\n",
      "[45]\tvalidation_0-auc:0.91229\n",
      "[46]\tvalidation_0-auc:0.91264\n",
      "[47]\tvalidation_0-auc:0.91284\n",
      "[48]\tvalidation_0-auc:0.91326\n",
      "[49]\tvalidation_0-auc:0.91343\n",
      "[50]\tvalidation_0-auc:0.91361\n",
      "[51]\tvalidation_0-auc:0.91396\n",
      "[52]\tvalidation_0-auc:0.91413\n",
      "[53]\tvalidation_0-auc:0.91438\n",
      "[54]\tvalidation_0-auc:0.91467\n",
      "[55]\tvalidation_0-auc:0.91482\n",
      "[56]\tvalidation_0-auc:0.91515\n",
      "[57]\tvalidation_0-auc:0.91550\n",
      "[58]\tvalidation_0-auc:0.91565\n",
      "[59]\tvalidation_0-auc:0.91580\n",
      "[60]\tvalidation_0-auc:0.91615\n",
      "[61]\tvalidation_0-auc:0.91634\n",
      "[62]\tvalidation_0-auc:0.91657\n",
      "[63]\tvalidation_0-auc:0.91668\n",
      "[64]\tvalidation_0-auc:0.91680\n",
      "[65]\tvalidation_0-auc:0.91704\n",
      "[66]\tvalidation_0-auc:0.91719\n",
      "[67]\tvalidation_0-auc:0.91735\n",
      "[68]\tvalidation_0-auc:0.91749\n",
      "[69]\tvalidation_0-auc:0.91772\n",
      "[70]\tvalidation_0-auc:0.91793\n",
      "[71]\tvalidation_0-auc:0.91808\n",
      "[72]\tvalidation_0-auc:0.91827\n",
      "[73]\tvalidation_0-auc:0.91837\n",
      "[74]\tvalidation_0-auc:0.91853\n",
      "[75]\tvalidation_0-auc:0.91868\n",
      "[76]\tvalidation_0-auc:0.91882\n",
      "[77]\tvalidation_0-auc:0.91899\n",
      "[78]\tvalidation_0-auc:0.91908\n",
      "[79]\tvalidation_0-auc:0.91916\n",
      "[80]\tvalidation_0-auc:0.91928\n",
      "[81]\tvalidation_0-auc:0.91942\n",
      "[82]\tvalidation_0-auc:0.91952\n",
      "[83]\tvalidation_0-auc:0.91964\n",
      "[84]\tvalidation_0-auc:0.91976\n",
      "[85]\tvalidation_0-auc:0.91979\n",
      "[86]\tvalidation_0-auc:0.91988\n",
      "[87]\tvalidation_0-auc:0.91999\n",
      "[88]\tvalidation_0-auc:0.92005\n",
      "[89]\tvalidation_0-auc:0.92012\n",
      "[90]\tvalidation_0-auc:0.92018\n",
      "[91]\tvalidation_0-auc:0.92028\n",
      "[92]\tvalidation_0-auc:0.92034\n",
      "[93]\tvalidation_0-auc:0.92044\n",
      "[94]\tvalidation_0-auc:0.92056\n",
      "[95]\tvalidation_0-auc:0.92066\n",
      "[96]\tvalidation_0-auc:0.92080\n",
      "[97]\tvalidation_0-auc:0.92086\n",
      "[98]\tvalidation_0-auc:0.92093\n",
      "[99]\tvalidation_0-auc:0.92100\n",
      "<class 'xgboost.sklearn.XGBClassifier'>\n",
      "\n",
      "n=653184    |     cutoff=0.50000\n",
      "            |     Prediction\n",
      "____________|____0__________1___       \n",
      "            |   TN     |    FP                TNR/Spec\t\tRatio of FP/TP = 3.82\n",
      "        0   | 555758   |  73746     629504     88.29 %\t\tPrevalence = 3.63%\n",
      "Actual      |__________|_________      \t\t\t\tAccuracy = 88.04%\n",
      "            |   FN     |    TP                TPR/Sen/Recall\tROC AUC Score = 0.92\n",
      "        1   |  4370    |  19310     23680     81.55 %\t\tLift = 5.72\n",
      "            |          |               \n",
      "              560128     93056           \n",
      "\n",
      "                NPV       PPV,Preci\n",
      "               99.22 %    20.75 %\n"
     ]
    }
   ],
   "source": [
    "eval_set =[(x_eval, y_eval)]\n",
    "clf = XGBClassifier(n_jobs=-1,\n",
    "                    learning_rate=0.05,\n",
    "                    max_depth=3,\n",
    "                    min_child_weight=4,\n",
    "                    subsample=0.8)\n",
    "\n",
    "clf_x = clf.fit(x_train, y_train,\n",
    "                eval_metric='auc',\n",
    "                sample_weight=sample_weight,\n",
    "                verbose=True,\n",
    "                early_stopping_rounds=10,\n",
    "                eval_set=eval_set)\n",
    "\n",
    "model_result(clf_x, y_train, x_train, cutoff=0.5)"
   ]
  },
  {
   "cell_type": "code",
   "execution_count": 23,
   "metadata": {},
   "outputs": [
    {
     "name": "stdout",
     "output_type": "stream",
     "text": [
      "<class 'xgboost.sklearn.XGBClassifier'>\n",
      "\n",
      "n=128076    |     cutoff=0.50000\n",
      "            |     Prediction\n",
      "____________|____0__________1___       \n",
      "            |   TN     |    FP                TNR/Spec\t\tRatio of FP/TP = 3.84\n",
      "        0   | 109052   |  14381     123433     88.35 %\t\tPrevalence = 3.63%\n",
      "Actual      |__________|_________      \t\t\t\tAccuracy = 88.07%\n",
      "            |   FN     |    TP                TPR/Sen/Recall\tROC AUC Score = 0.92\n",
      "        1   |   898    |  3745      4643      80.66 %\t\tLift = 5.70\n",
      "            |          |               \n",
      "              109950     18126           \n",
      "\n",
      "                NPV       PPV,Preci\n",
      "               99.18 %    20.66 %\n"
     ]
    }
   ],
   "source": [
    "model_result(clf_x,y_test,x_test, cutoff=0.5)"
   ]
  },
  {
   "cell_type": "markdown",
   "metadata": {},
   "source": [
    "# OOTV"
   ]
  },
  {
   "cell_type": "code",
   "execution_count": 24,
   "metadata": {},
   "outputs": [],
   "source": [
    "df_ootv = pd.read_csv('ootv_data2.csv')\n",
    "df_ootv.head()\n",
    "df_ootv_backup = df_ootv.copy()"
   ]
  },
  {
   "cell_type": "code",
   "execution_count": 35,
   "metadata": {},
   "outputs": [],
   "source": [
    "x_ootv1, y_ootv1 = ootv1.iloc[:,:-1], ootv1.loc[:,y]\n",
    "x_ootv2, y_ootv2 = ootv2.iloc[:,:-1], ootv2.loc[:,y]\n",
    "x_ootv3, y_ootv3 = ootv3.iloc[:,:-1], ootv3.loc[:,y]"
   ]
  },
  {
   "cell_type": "code",
   "execution_count": 37,
   "metadata": {},
   "outputs": [
    {
     "name": "stdout",
     "output_type": "stream",
     "text": [
      "<class 'xgboost.sklearn.XGBClassifier'>\n",
      "\n",
      "n=2782480   |     cutoff=0.93500\n",
      "            |     Prediction\n",
      "____________|____0__________1___       \n",
      "            |   TN     |    FP                TNR/Spec\t\tRatio of FP/TP = 5.99\n",
      "        0   | 2751188  |  21309     2772497    99.23 %\t\tPrevalence = 0.36%\n",
      "Actual      |__________|_________      \t\t\t\tAccuracy = 99.00%\n",
      "            |   FN     |    TP                TPR/Sen/Recall\tROC AUC Score = 0.92\n",
      "        1   |  6424    |  3559      9983      35.65 %\t\tLift = 39.89\n",
      "            |          |               \n",
      "              2757612    24868           \n",
      "\n",
      "                NPV       PPV,Preci\n",
      "               99.77 %    14.31 %\n"
     ]
    }
   ],
   "source": [
    "model_result(clf_x, y_ootv1, x_ootv1, cutoff=0.935)"
   ]
  },
  {
   "cell_type": "code",
   "execution_count": 38,
   "metadata": {},
   "outputs": [
    {
     "name": "stdout",
     "output_type": "stream",
     "text": [
      "<class 'xgboost.sklearn.XGBClassifier'>\n",
      "\n",
      "n=2856499   |     cutoff=0.93500\n",
      "            |     Prediction\n",
      "____________|____0__________1___       \n",
      "            |   TN     |    FP                TNR/Spec\t\tRatio of FP/TP = 6.03\n",
      "        0   | 2820190  |  24084     2844274    99.15 %\t\tPrevalence = 0.43%\n",
      "Actual      |__________|_________      \t\t\t\tAccuracy = 98.87%\n",
      "            |   FN     |    TP                TPR/Sen/Recall\tROC AUC Score = 0.92\n",
      "        1   |  8228    |  3997      12225     32.7  %\t\tLift = 33.26\n",
      "            |          |               \n",
      "              2828418    28081           \n",
      "\n",
      "                NPV       PPV,Preci\n",
      "               99.71 %    14.23 %\n"
     ]
    }
   ],
   "source": [
    "model_result(clf_x, y_ootv2, x_ootv2, cutoff=0.935)"
   ]
  },
  {
   "cell_type": "code",
   "execution_count": 39,
   "metadata": {},
   "outputs": [
    {
     "name": "stdout",
     "output_type": "stream",
     "text": [
      "<class 'xgboost.sklearn.XGBClassifier'>\n",
      "\n",
      "n=2806558   |     cutoff=0.93500\n",
      "            |     Prediction\n",
      "____________|____0__________1___       \n",
      "            |   TN     |    FP                TNR/Spec\t\tRatio of FP/TP = 5.91\n",
      "        0   | 2775170  |  21278     2796448    99.24 %\t\tPrevalence = 0.36%\n",
      "Actual      |__________|_________      \t\t\t\tAccuracy = 99.01%\n",
      "            |   FN     |    TP                TPR/Sen/Recall\tROC AUC Score = 0.92\n",
      "        1   |  6509    |  3601      10110     35.62 %\t\tLift = 40.18\n",
      "            |          |               \n",
      "              2781679    24879           \n",
      "\n",
      "                NPV       PPV,Preci\n",
      "               99.77 %    14.47 %\n"
     ]
    }
   ],
   "source": [
    "model_result(clf_x, y_ootv3, x_ootv3, cutoff=0.935)"
   ]
  },
  {
   "cell_type": "markdown",
   "metadata": {},
   "source": [
    "## Permutation Importance ##"
   ]
  },
  {
   "cell_type": "code",
   "execution_count": 40,
   "metadata": {},
   "outputs": [
    {
     "name": "stderr",
     "output_type": "stream",
     "text": [
      "Using TensorFlow backend.\n"
     ]
    },
    {
     "data": {
      "text/html": [
       "\n",
       "    <style>\n",
       "    table.eli5-weights tr:hover {\n",
       "        filter: brightness(85%);\n",
       "    }\n",
       "</style>\n",
       "\n",
       "\n",
       "\n",
       "    \n",
       "\n",
       "    \n",
       "\n",
       "    \n",
       "\n",
       "    \n",
       "\n",
       "    \n",
       "\n",
       "    \n",
       "\n",
       "\n",
       "    \n",
       "\n",
       "    \n",
       "\n",
       "    \n",
       "\n",
       "    \n",
       "\n",
       "    \n",
       "\n",
       "    \n",
       "\n",
       "\n",
       "    \n",
       "\n",
       "    \n",
       "\n",
       "    \n",
       "\n",
       "    \n",
       "\n",
       "    \n",
       "        <table class=\"eli5-weights eli5-feature-importances\" style=\"border-collapse: collapse; border: none; margin-top: 0em; table-layout: auto;\">\n",
       "    <thead>\n",
       "    <tr style=\"border: none;\">\n",
       "        <th style=\"padding: 0 1em 0 0.5em; text-align: right; border: none;\">Weight</th>\n",
       "        <th style=\"padding: 0 0.5em 0 0.5em; text-align: left; border: none;\">Feature</th>\n",
       "    </tr>\n",
       "    </thead>\n",
       "    <tbody>\n",
       "    \n",
       "        <tr style=\"background-color: hsl(120, 100.00%, 88.78%); border: none;\">\n",
       "            <td style=\"padding: 0 1em 0 0.5em; text-align: right; border: none;\">\n",
       "                0.0079\n",
       "                \n",
       "                    &plusmn; 0.0002\n",
       "                \n",
       "            </td>\n",
       "            <td style=\"padding: 0 0.5em 0 0.5em; text-align: left; border: none;\">\n",
       "                num_out_call\n",
       "            </td>\n",
       "        </tr>\n",
       "    \n",
       "        <tr style=\"background-color: hsl(120, 100.00%, 90.29%); border: none;\">\n",
       "            <td style=\"padding: 0 1em 0 0.5em; text-align: right; border: none;\">\n",
       "                0.0064\n",
       "                \n",
       "                    &plusmn; 0.0003\n",
       "                \n",
       "            </td>\n",
       "            <td style=\"padding: 0 0.5em 0 0.5em; text-align: left; border: none;\">\n",
       "                main_account_balance\n",
       "            </td>\n",
       "        </tr>\n",
       "    \n",
       "        <tr style=\"background-color: hsl(120, 100.00%, 94.95%); border: none;\">\n",
       "            <td style=\"padding: 0 1em 0 0.5em; text-align: right; border: none;\">\n",
       "                0.0025\n",
       "                \n",
       "                    &plusmn; 0.0001\n",
       "                \n",
       "            </td>\n",
       "            <td style=\"padding: 0 0.5em 0 0.5em; text-align: left; border: none;\">\n",
       "                b\n",
       "            </td>\n",
       "        </tr>\n",
       "    \n",
       "        <tr style=\"background-color: hsl(120, 100.00%, 96.87%); border: none;\">\n",
       "            <td style=\"padding: 0 1em 0 0.5em; text-align: right; border: none;\">\n",
       "                0.0013\n",
       "                \n",
       "                    &plusmn; 0.0003\n",
       "                \n",
       "            </td>\n",
       "            <td style=\"padding: 0 0.5em 0 0.5em; text-align: left; border: none;\">\n",
       "                reload_validity\n",
       "            </td>\n",
       "        </tr>\n",
       "    \n",
       "        <tr style=\"background-color: hsl(120, 100.00%, 99.28%); border: none;\">\n",
       "            <td style=\"padding: 0 1em 0 0.5em; text-align: right; border: none;\">\n",
       "                0.0002\n",
       "                \n",
       "                    &plusmn; 0.0001\n",
       "                \n",
       "            </td>\n",
       "            <td style=\"padding: 0 0.5em 0 0.5em; text-align: left; border: none;\">\n",
       "                data_vol_gb\n",
       "            </td>\n",
       "        </tr>\n",
       "    \n",
       "        <tr style=\"background-color: hsl(120, 100.00%, 99.89%); border: none;\">\n",
       "            <td style=\"padding: 0 1em 0 0.5em; text-align: right; border: none;\">\n",
       "                0.0000\n",
       "                \n",
       "                    &plusmn; 0.0000\n",
       "                \n",
       "            </td>\n",
       "            <td style=\"padding: 0 0.5em 0 0.5em; text-align: left; border: none;\">\n",
       "                device_type_basic_phone\n",
       "            </td>\n",
       "        </tr>\n",
       "    \n",
       "        <tr style=\"background-color: hsl(120, 100.00%, 99.99%); border: none;\">\n",
       "            <td style=\"padding: 0 1em 0 0.5em; text-align: right; border: none;\">\n",
       "                0.0000\n",
       "                \n",
       "                    &plusmn; 0.0000\n",
       "                \n",
       "            </td>\n",
       "            <td style=\"padding: 0 0.5em 0 0.5em; text-align: left; border: none;\">\n",
       "                device_type_feature_phone\n",
       "            </td>\n",
       "        </tr>\n",
       "    \n",
       "        <tr style=\"background-color: hsl(0, 100.00%, 100.00%); border: none;\">\n",
       "            <td style=\"padding: 0 1em 0 0.5em; text-align: right; border: none;\">\n",
       "                0\n",
       "                \n",
       "                    &plusmn; 0.0000\n",
       "                \n",
       "            </td>\n",
       "            <td style=\"padding: 0 0.5em 0 0.5em; text-align: left; border: none;\">\n",
       "                dormant_target\n",
       "            </td>\n",
       "        </tr>\n",
       "    \n",
       "        <tr style=\"background-color: hsl(0, 100.00%, 100.00%); border: none;\">\n",
       "            <td style=\"padding: 0 1em 0 0.5em; text-align: right; border: none;\">\n",
       "                0\n",
       "                \n",
       "                    &plusmn; 0.0000\n",
       "                \n",
       "            </td>\n",
       "            <td style=\"padding: 0 0.5em 0 0.5em; text-align: left; border: none;\">\n",
       "                nonclm_target\n",
       "            </td>\n",
       "        </tr>\n",
       "    \n",
       "        <tr style=\"background-color: hsl(0, 100.00%, 100.00%); border: none;\">\n",
       "            <td style=\"padding: 0 1em 0 0.5em; text-align: right; border: none;\">\n",
       "                0\n",
       "                \n",
       "                    &plusmn; 0.0000\n",
       "                \n",
       "            </td>\n",
       "            <td style=\"padding: 0 0.5em 0 0.5em; text-align: left; border: none;\">\n",
       "                loyal_target\n",
       "            </td>\n",
       "        </tr>\n",
       "    \n",
       "        <tr style=\"background-color: hsl(0, 100.00%, 100.00%); border: none;\">\n",
       "            <td style=\"padding: 0 1em 0 0.5em; text-align: right; border: none;\">\n",
       "                0\n",
       "                \n",
       "                    &plusmn; 0.0000\n",
       "                \n",
       "            </td>\n",
       "            <td style=\"padding: 0 0.5em 0 0.5em; text-align: left; border: none;\">\n",
       "                monetz_target\n",
       "            </td>\n",
       "        </tr>\n",
       "    \n",
       "        <tr style=\"background-color: hsl(0, 100.00%, 100.00%); border: none;\">\n",
       "            <td style=\"padding: 0 1em 0 0.5em; text-align: right; border: none;\">\n",
       "                0\n",
       "                \n",
       "                    &plusmn; 0.0000\n",
       "                \n",
       "            </td>\n",
       "            <td style=\"padding: 0 0.5em 0 0.5em; text-align: left; border: none;\">\n",
       "                num_reload_30\n",
       "            </td>\n",
       "        </tr>\n",
       "    \n",
       "        <tr style=\"background-color: hsl(0, 100.00%, 100.00%); border: none;\">\n",
       "            <td style=\"padding: 0 1em 0 0.5em; text-align: right; border: none;\">\n",
       "                0\n",
       "                \n",
       "                    &plusmn; 0.0000\n",
       "                \n",
       "            </td>\n",
       "            <td style=\"padding: 0 0.5em 0 0.5em; text-align: left; border: none;\">\n",
       "                dormant_taker\n",
       "            </td>\n",
       "        </tr>\n",
       "    \n",
       "        <tr style=\"background-color: hsl(0, 100.00%, 99.16%); border: none;\">\n",
       "            <td style=\"padding: 0 1em 0 0.5em; text-align: right; border: none;\">\n",
       "                -0.0002\n",
       "                \n",
       "                    &plusmn; 0.0001\n",
       "                \n",
       "            </td>\n",
       "            <td style=\"padding: 0 0.5em 0 0.5em; text-align: left; border: none;\">\n",
       "                reload_rfm\n",
       "            </td>\n",
       "        </tr>\n",
       "    \n",
       "        <tr style=\"background-color: hsl(0, 100.00%, 98.68%); border: none;\">\n",
       "            <td style=\"padding: 0 1em 0 0.5em; text-align: right; border: none;\">\n",
       "                -0.0004\n",
       "                \n",
       "                    &plusmn; 0.0001\n",
       "                \n",
       "            </td>\n",
       "            <td style=\"padding: 0 0.5em 0 0.5em; text-align: left; border: none;\">\n",
       "                status_active\n",
       "            </td>\n",
       "        </tr>\n",
       "    \n",
       "        <tr style=\"background-color: hsl(0, 100.00%, 98.00%); border: none;\">\n",
       "            <td style=\"padding: 0 1em 0 0.5em; text-align: right; border: none;\">\n",
       "                -0.0007\n",
       "                \n",
       "                    &plusmn; 0.0001\n",
       "                \n",
       "            </td>\n",
       "            <td style=\"padding: 0 0.5em 0 0.5em; text-align: left; border: none;\">\n",
       "                reten_target\n",
       "            </td>\n",
       "        </tr>\n",
       "    \n",
       "        <tr style=\"background-color: hsl(0, 100.00%, 93.96%); border: none;\">\n",
       "            <td style=\"padding: 0 1em 0 0.5em; text-align: right; border: none;\">\n",
       "                -0.0033\n",
       "                \n",
       "                    &plusmn; 0.0003\n",
       "                \n",
       "            </td>\n",
       "            <td style=\"padding: 0 0.5em 0 0.5em; text-align: left; border: none;\">\n",
       "                a\n",
       "            </td>\n",
       "        </tr>\n",
       "    \n",
       "        <tr style=\"background-color: hsl(0, 100.00%, 89.81%); border: none;\">\n",
       "            <td style=\"padding: 0 1em 0 0.5em; text-align: right; border: none;\">\n",
       "                -0.0069\n",
       "                \n",
       "                    &plusmn; 0.0002\n",
       "                \n",
       "            </td>\n",
       "            <td style=\"padding: 0 0.5em 0 0.5em; text-align: left; border: none;\">\n",
       "                months_in_status\n",
       "            </td>\n",
       "        </tr>\n",
       "    \n",
       "        <tr style=\"background-color: hsl(0, 100.00%, 87.27%); border: none;\">\n",
       "            <td style=\"padding: 0 1em 0 0.5em; text-align: right; border: none;\">\n",
       "                -0.0094\n",
       "                \n",
       "                    &plusmn; 0.0003\n",
       "                \n",
       "            </td>\n",
       "            <td style=\"padding: 0 0.5em 0 0.5em; text-align: left; border: none;\">\n",
       "                mi_monthly\n",
       "            </td>\n",
       "        </tr>\n",
       "    \n",
       "        <tr style=\"background-color: hsl(0, 100.00%, 80.00%); border: none;\">\n",
       "            <td style=\"padding: 0 1em 0 0.5em; text-align: right; border: none;\">\n",
       "                -0.0180\n",
       "                \n",
       "                    &plusmn; 0.0004\n",
       "                \n",
       "            </td>\n",
       "            <td style=\"padding: 0 0.5em 0 0.5em; text-align: left; border: none;\">\n",
       "                amt_reload_60\n",
       "            </td>\n",
       "        </tr>\n",
       "    \n",
       "    \n",
       "    </tbody>\n",
       "</table>\n",
       "    \n",
       "\n",
       "    \n",
       "\n",
       "\n",
       "    \n",
       "\n",
       "    \n",
       "\n",
       "    \n",
       "\n",
       "    \n",
       "\n",
       "    \n",
       "\n",
       "    \n",
       "\n",
       "\n",
       "\n"
      ],
      "text/plain": [
       "<IPython.core.display.HTML object>"
      ]
     },
     "execution_count": 40,
     "metadata": {},
     "output_type": "execute_result"
    }
   ],
   "source": [
    "import eli5\n",
    "from eli5.sklearn import PermutationImportance\n",
    "perm = PermutationImportance(clf_x).fit(x_train, y_train)\n",
    "eli5.show_weights(perm,feature_names =x_train.columns.tolist(), top = None)"
   ]
  },
  {
   "cell_type": "code",
   "execution_count": 41,
   "metadata": {
    "scrolled": false
   },
   "outputs": [
    {
     "data": {
      "text/plain": [
       "Text(0.5, 0, 'Relative Importance')"
      ]
     },
     "execution_count": 41,
     "metadata": {},
     "output_type": "execute_result"
    },
    {
     "data": {
      "image/png": "[encoded data removed]",
      "text/plain": [
       "<Figure size 720x3600 with 1 Axes>"
      ]
     },
     "metadata": {
      "needs_background": "light"
     },
     "output_type": "display_data"
    }
   ],
   "source": [
    "importances = clf_x.feature_importances_\n",
    "indices = np.argsort(importances)\n",
    "plt.figure(figsize=(10,50))\n",
    "features=x_train.columns\n",
    "plt.figure(1)\n",
    "plt.title('Feature Importances')\n",
    "plt.barh(range(len(indices)), importances[indices], color='g', align='center')\n",
    "plt.yticks(range(len(indices)), features[indices])\n",
    "plt.xlabel('Relative Importance')"
   ]
  }
 ],
 "metadata": {
  "hide_input": false,
  "kernelspec": {
   "display_name": "Python 3",
   "language": "python",
   "name": "python3"
  },
  "language_info": {
   "codemirror_mode": {
    "name": "ipython",
    "version": 3
   },
   "file_extension": ".py",
   "mimetype": "text/x-python",
   "name": "python",
   "nbconvert_exporter": "python",
   "pygments_lexer": "ipython3",
   "version": "3.6.6"
  },
  "varInspector": {
   "cols": {
    "lenName": 16,
    "lenType": 16,
    "lenVar": 40
   },
   "kernels_config": {
    "python": {
     "delete_cmd_postfix": "",
     "delete_cmd_prefix": "del ",
     "library": "var_list.py",
     "varRefreshCmd": "print(var_dic_list())"
    },
    "r": {
     "delete_cmd_postfix": ") ",
     "delete_cmd_prefix": "rm(",
     "library": "var_list.r",
     "varRefreshCmd": "cat(var_dic_list()) "
    }
   },
   "types_to_exclude": [
    "module",
    "function",
    "builtin_function_or_method",
    "instance",
    "_Feature"
   ],
   "window_display": false
  }
 },
 "nbformat": 4,
 "nbformat_minor": 2
}
